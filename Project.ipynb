{
 "cells": [
  {
   "cell_type": "markdown",
   "id": "3b81d13f-68e0-48b0-8a52-b937d7669e42",
   "metadata": {},
   "source": [
    "# Project - IMDB Movie Reviews"
   ]
  },
  {
   "cell_type": "markdown",
   "id": "9c22f321-345f-4c4a-be1a-4dda915da3bf",
   "metadata": {},
   "source": [
    "\n",
    "\n",
    "*   Aashi Aashi \n",
    "*   Alisha Sood \n",
    "*   Harshit Jain\n",
    "*   Akshaya Mudar  \n",
    "*   Tyler Cushing"
   ]
  },
  {
   "cell_type": "code",
   "execution_count": null,
   "id": "ee4c3c4f-db89-499b-ad0c-bd6ecf1491ae",
   "metadata": {},
   "outputs": [],
   "source": [
    "import sys\n",
    "from selenium import webdriver\n",
    "from webdriver_manager.chrome import ChromeDriverManager\n",
    "from selenium.webdriver.common.by import By\n",
    "import pandas as pd\n",
    "import numpy as np\n",
    "import os\n",
    "import copy\n",
    "import string\n",
    "import nltk\n",
    "nltk.download('stopwords')\n",
    "nltk.download('punkt')\n",
    "from nltk.corpus import stopwords\n",
    "from nltk.tokenize import word_tokenize\n",
    "from nltk.tokenize import RegexpTokenizer\n",
    "from sklearn.feature_extraction.text import CountVectorizer\n",
    "from sklearn.metrics.pairwise import cosine_similarity\n",
    "from sklearn.preprocessing import StandardScaler\n",
    "import sklearn\n",
    "import nltk\n",
    "nltk.download('vader_lexicon')\n",
    "from nltk.sentiment.vader import SentimentIntensityAnalyzer\n",
    "import time\n",
    "import re\n",
    "import seaborn as sns; sns.set_theme()\n",
    "from sklearn import manifold\n",
    "%matplotlib inline\n",
    "import math\n",
    "from matplotlib import pyplot as plt"
   ]
  },
  {
   "cell_type": "code",
   "execution_count": 56,
   "id": "c5c15601-a057-4eb5-b66a-c691739f7f70",
   "metadata": {},
   "outputs": [],
   "source": [
    "sys.path.insert(0,'/usr/lib/chromium-browser/chromedriver')\n",
    "#WebDriver is a browser automation framework that works with open source APIs. \n",
    "#The framework operates by accepting commands, sending those commands to a browser, and interacting with applications.\n",
    "chrome_options = webdriver.ChromeOptions()\n",
    "#headless means running chrome with chrome.exe\n",
    "chrome_options.add_argument('--headless')\n",
    "chrome_options.add_argument('--no-sandbox')\n",
    "chrome_options.add_argument('--disable-dev-shm-usage')"
   ]
  },
  {
   "cell_type": "markdown",
   "id": "2ab5f383-8d60-4138-acd3-190da21ba4ed",
   "metadata": {},
   "source": [
    "## Getting the links of webpages to scrape"
   ]
  },
  {
   "cell_type": "code",
   "execution_count": 57,
   "id": "31dcd22e-6098-468d-bfe7-e4e7fe4c089a",
   "metadata": {},
   "outputs": [
    {
     "name": "stderr",
     "output_type": "stream",
     "text": [
      "/var/folders/wh/f1gf_vp175112kx_fb3lwg5c0000gn/T/ipykernel_64385/1589755710.py:2: DeprecationWarning: executable_path has been deprecated, please pass in a Service object\n",
      "  driver = webdriver.Chrome(ChromeDriverManager().install()) ### Incase of Jupyter Notebook\n"
     ]
    }
   ],
   "source": [
    "page_url ='https://www.imdb.com/feature/genre/?ref_=nv_ch_gr'\n",
    "driver = webdriver.Chrome(ChromeDriverManager().install()) ### Incase of Jupyter Notebook\n",
    "Links=[]\n",
    "driver.get(page_url)\n",
    "driver.maximize_window()\n",
    "driver.implicitly_wait(10)\n",
    "link=driver.find_elements(By.XPATH, value='//*[@id=\"main\"]//div/div/div/a')\n",
    "for i in link:\n",
    "    Link=i.get_attribute(\"href\")\n",
    "    Links.append(Link)\n",
    "    if len(Links)>10:\n",
    "        break\n",
    "\n",
    "time.sleep(5)\n",
    "driver.close()"
   ]
  },
  {
   "cell_type": "code",
   "execution_count": 58,
   "id": "06ef87b8-7676-4405-b2cc-293ee6226d44",
   "metadata": {},
   "outputs": [],
   "source": [
    "pd.DataFrame(Links).to_csv(\"Links_firstbase.csv\", index=False)"
   ]
  },
  {
   "cell_type": "markdown",
   "id": "af4774d4-1118-48c4-8206-360ae54e3266",
   "metadata": {},
   "source": [
    "# Scraping the links of Movies"
   ]
  },
  {
   "cell_type": "code",
   "execution_count": 60,
   "id": "4c4272bf-d728-4127-b538-db5ad6b4e37a",
   "metadata": {},
   "outputs": [
    {
     "name": "stderr",
     "output_type": "stream",
     "text": [
      "/var/folders/wh/f1gf_vp175112kx_fb3lwg5c0000gn/T/ipykernel_64385/1941120327.py:1: DeprecationWarning: executable_path has been deprecated, please pass in a Service object\n",
      "  driver = webdriver.Chrome(ChromeDriverManager().install())\n"
     ]
    }
   ],
   "source": [
    "driver = webdriver.Chrome(ChromeDriverManager().install())\n",
    "Movie_Links=[]\n",
    "for url in Links:\n",
    "    driver.get(url)\n",
    "    driver.maximize_window()\n",
    "    driver.implicitly_wait(10)\n",
    "    link=driver.find_elements(By.XPATH, value='//*[@id=\"main\"]//div[3]/h3/a')\n",
    "    for i in link:\n",
    "        Link=i.get_attribute(\"href\")\n",
    "        Movie_Links.append(Link)\n",
    "\n",
    "time.sleep(5)\n",
    "driver.close()"
   ]
  },
  {
   "cell_type": "code",
   "execution_count": 61,
   "id": "d981ece2-f83e-4954-8d75-f5f74b01a0e8",
   "metadata": {},
   "outputs": [],
   "source": [
    "pd.DataFrame(Movie_Links).to_csv(\"Movie_Links.csv\", index=False)"
   ]
  },
  {
   "cell_type": "markdown",
   "id": "20292c50-c414-439e-90b6-892952fb3b30",
   "metadata": {},
   "source": [
    "# Scraping comments Link for different Movies"
   ]
  },
  {
   "cell_type": "code",
   "execution_count": null,
   "id": "55ae5f71-6bd5-4149-bf23-7fed34e95602",
   "metadata": {},
   "outputs": [],
   "source": [
    "driver = webdriver.Chrome(ChromeDriverManager().install())\n",
    "Links_extras=[]\n",
    "Comments_link=[]\n",
    "Movie=[]\n",
    "Storyline=[]\n",
    "Plot=[]\n",
    "for url in Movie_Links:\n",
    "    Links_extras=[]\n",
    "    driver.get(url)\n",
    "    driver.maximize_window()\n",
    "    driver.implicitly_wait(10)\n",
    "    movie=driver.find_element(By.CLASS_NAME, value='sc-80d4314-1.fbQftq').text\n",
    "    #movie_name=movie[0].find_element(By.CLASS_NAME, value='sc-b73cd867-0.eKrKux').text\n",
    "    Movie.append(movie)\n",
    "    try:\n",
    "        story=driver.find_elements(By.CLASS_NAME, value='sc-132205f7-0.bJEfgD')\n",
    "        story_line=story[0].find_element(By.CLASS_NAME, value='ipc-html-content-inner-div').text\n",
    "    except:\n",
    "        story_line=' '\n",
    "    Storyline.append(story_line)\n",
    "    #plot_line=driver.find_element(By.CLASS_NAME, value='sc-16ede01-7.hrgVKw').text\n",
    "    #Plot.append(plot_line)\n",
    "    link=driver.find_elements(By.CLASS_NAME,value='ipc-title-link-wrapper')\n",
    "    for i in link:\n",
    "        Link=i.get_attribute(\"href\")\n",
    "        Links_extras.append(Link)\n",
    "    Comment = [s for s in Links_extras if s.__contains__(\"reviews\")]\n",
    "    Comments_link.append(Comment)\n",
    "\n",
    "time.sleep(5)\n",
    "driver.close()"
   ]
  },
  {
   "cell_type": "code",
   "execution_count": 86,
   "id": "5e95cb6b-6f64-4b15-a91f-869e95294110",
   "metadata": {},
   "outputs": [],
   "source": [
    "Movie_Details = pd.DataFrame(columns = ['Movie','StoryLine'])\n",
    "Movie_Details['Movie']=Movie\n",
    "Movie_Details['StoryLine']=Storyline\n",
    "\n",
    "Movie_Details.to_csv(\"Movie_Details.csv\", index=False)"
   ]
  },
  {
   "cell_type": "code",
   "execution_count": 172,
   "id": "1d032f4b-d900-4557-b708-007565d2fd93",
   "metadata": {},
   "outputs": [],
   "source": [
    "Final_comments=[]\n",
    "\n",
    "for i in range(len(Comments_link)):\n",
    "    if len((Comments_link[i]))==0:\n",
    "        continue\n",
    "    else:\n",
    "        Final_comments.append(Comments_link[i][0])\n",
    "\n",
    "pd.DataFrame(Final_comments).to_csv(\"Comments_link.csv\", index=False)\n",
    "\n",
    "Final_comments_df=pd.read_csv('Comments_link.csv', names=['Link'])\n",
    "\n",
    "Final_comments_df=Final_comments_df.iloc[1: ,:]"
   ]
  },
  {
   "cell_type": "markdown",
   "id": "8fb9ce52-a8e9-47fa-a724-c1e285ddd65b",
   "metadata": {},
   "source": [
    "# Scraping the Reviews for different Movies"
   ]
  },
  {
   "cell_type": "code",
   "execution_count": null,
   "id": "4dd87778-45e9-4555-9b1c-2c1c135a29dd",
   "metadata": {},
   "outputs": [],
   "source": [
    "Reviews=[]\n",
    "MovieName=[]\n",
    "Rating=[]"
   ]
  },
  {
   "cell_type": "code",
   "execution_count": 295,
   "id": "416cad99-e0c7-4580-b871-6a6a60408efe",
   "metadata": {},
   "outputs": [
    {
     "name": "stderr",
     "output_type": "stream",
     "text": [
      "/var/folders/wh/f1gf_vp175112kx_fb3lwg5c0000gn/T/ipykernel_64385/1927806725.py:1: DeprecationWarning: executable_path has been deprecated, please pass in a Service object\n",
      "  driver = webdriver.Chrome(ChromeDriverManager().install())\n"
     ]
    }
   ],
   "source": [
    "driver = webdriver.Chrome(ChromeDriverManager().install())\n",
    "\n",
    "for url in Final_comments_df:\n",
    "    previous_len=len(Reviews)\n",
    "    temporay_movie_list=[]\n",
    "    driver.get(url)\n",
    "    driver.maximize_window()\n",
    "    driver.implicitly_wait(10)\n",
    "    movie=driver.find_element(By.XPATH, value='//*[@id=\"main\"]/section/div[1]/div/div').text\n",
    "    temporay_movie_list.append(movie)\n",
    "    try:\n",
    "        loadmore=driver.find_element(By.CLASS_NAME, value='ipl-load-more__button')\n",
    "        loadmore.click()\n",
    "    except:\n",
    "        pass\n",
    "    content=driver.find_elements(By.CLASS_NAME, value='lister-item-content')\n",
    "    for con in content:\n",
    "        try:\n",
    "            reviews=con.find_element(By.CLASS_NAME, value='text.show-more__control').text\n",
    "            Reviews.append(reviews)\n",
    "        except:\n",
    "            reviews='N/A'\n",
    "            Reviews.append(reviews)\n",
    "            \n",
    "        try:\n",
    "            Ratings= con.find_element(By.CLASS_NAME, value='rating-other-user-rating').text\n",
    "            Rating.append(Ratings)\n",
    "        except:\n",
    "            Ratings='N/A'\n",
    "            Rating.append(Ratings)\n",
    "    current_len=len(Reviews)\n",
    "    new=current_len-previous_len\n",
    "    temporay_movie_list=temporay_movie_list*new\n",
    "    MovieName.append(temporay_movie_list)\n",
    "\n",
    "time.sleep(5)\n",
    "driver.close()"
   ]
  },
  {
   "cell_type": "code",
   "execution_count": 335,
   "id": "05ca0c26-6022-484d-8dc5-3c107bbfc984",
   "metadata": {},
   "outputs": [],
   "source": [
    "Movie_Names=[]\n",
    "for i in (MovieName):\n",
    "    for j in i:\n",
    "        Movie_Names.append(j)\n",
    "\n",
    "MovieReviews = pd.DataFrame(columns = ['Movie','Review','Ratings'])\n",
    "\n",
    "MovieReviews['Movie']= Movie_Names\n",
    "MovieReviews['Review']= Reviews\n",
    "MovieReviews['Ratings']= Rating"
   ]
  },
  {
   "cell_type": "code",
   "execution_count": 336,
   "id": "8df2d62c-8056-471b-a3b8-f2a0699424cd",
   "metadata": {},
   "outputs": [],
   "source": [
    "MovieReviews['Ratings'] =MovieReviews['Ratings'].apply( lambda x: '' if x=='N/A' else x )\n",
    "\n",
    "MovieReviews['Ratings']=MovieReviews['Ratings'].apply(lambda x: x.split(\"/\"))\n",
    "\n",
    "MovieReviews['Ratings']=MovieReviews['Ratings'].apply(lambda x: x[0])\n",
    "MovieReviews['Ratings'] = pd.to_numeric(MovieReviews['Ratings'])\n",
    "MovieReviews[\"Movie\"]=MovieReviews[\"Movie\"].apply(lambda x: x.split(\"(\"))\n",
    "MovieReviews[\"Movie\"]=MovieReviews[\"Movie\"].apply(lambda x: x[0])"
   ]
  },
  {
   "cell_type": "code",
   "execution_count": 337,
   "id": "562293a4-861d-4db6-a927-f2354ae1cbc8",
   "metadata": {},
   "outputs": [],
   "source": [
    "pd.DataFrame(MovieReviews).to_csv(\"MovieReviews.csv\", index=False)"
   ]
  },
  {
   "cell_type": "markdown",
   "id": "8d1cb36b-b2a2-450b-8fdb-147648bcabd7",
   "metadata": {},
   "source": [
    "# Reading the Scraped file for Movie Reviews"
   ]
  },
  {
   "cell_type": "code",
   "execution_count": 465,
   "id": "2b7bc1f7-a0a2-410f-957c-c87cc773368a",
   "metadata": {},
   "outputs": [
    {
     "data": {
      "text/html": [
       "<div>\n",
       "<style scoped>\n",
       "    .dataframe tbody tr th:only-of-type {\n",
       "        vertical-align: middle;\n",
       "    }\n",
       "\n",
       "    .dataframe tbody tr th {\n",
       "        vertical-align: top;\n",
       "    }\n",
       "\n",
       "    .dataframe thead th {\n",
       "        text-align: right;\n",
       "    }\n",
       "</style>\n",
       "<table border=\"1\" class=\"dataframe\">\n",
       "  <thead>\n",
       "    <tr style=\"text-align: right;\">\n",
       "      <th></th>\n",
       "      <th>Movie</th>\n",
       "      <th>Review</th>\n",
       "      <th>Ratings</th>\n",
       "    </tr>\n",
       "  </thead>\n",
       "  <tbody>\n",
       "    <tr>\n",
       "      <th>0</th>\n",
       "      <td>Hocus Pocus 2</td>\n",
       "      <td>Not bad but super lackluster compared to the o...</td>\n",
       "      <td>NaN</td>\n",
       "    </tr>\n",
       "    <tr>\n",
       "      <th>1</th>\n",
       "      <td>Hocus Pocus 2</td>\n",
       "      <td>I was really excited to see this and shouldn't...</td>\n",
       "      <td>NaN</td>\n",
       "    </tr>\n",
       "    <tr>\n",
       "      <th>2</th>\n",
       "      <td>Hocus Pocus 2</td>\n",
       "      <td>NaN</td>\n",
       "      <td>5.0</td>\n",
       "    </tr>\n",
       "    <tr>\n",
       "      <th>3</th>\n",
       "      <td>Hocus Pocus 2</td>\n",
       "      <td>Where to begin\\n\\nWhat's good\\n\\nUmm not much\\...</td>\n",
       "      <td>1.0</td>\n",
       "    </tr>\n",
       "    <tr>\n",
       "      <th>4</th>\n",
       "      <td>Hocus Pocus 2</td>\n",
       "      <td>NaN</td>\n",
       "      <td>1.0</td>\n",
       "    </tr>\n",
       "  </tbody>\n",
       "</table>\n",
       "</div>"
      ],
      "text/plain": [
       "            Movie                                             Review  Ratings\n",
       "0  Hocus Pocus 2   Not bad but super lackluster compared to the o...      NaN\n",
       "1  Hocus Pocus 2   I was really excited to see this and shouldn't...      NaN\n",
       "2  Hocus Pocus 2                                                 NaN      5.0\n",
       "3  Hocus Pocus 2   Where to begin\\n\\nWhat's good\\n\\nUmm not much\\...      1.0\n",
       "4  Hocus Pocus 2                                                 NaN      1.0"
      ]
     },
     "execution_count": 465,
     "metadata": {},
     "output_type": "execute_result"
    }
   ],
   "source": [
    "Movie_Reviews_df=pd.read_csv(\"MovieReviews.csv\")\n",
    "Movie_Reviews_df.head(5)"
   ]
  },
  {
   "cell_type": "code",
   "execution_count": 466,
   "id": "040e4ac3-b1e8-428d-9fdd-90d81ce342c4",
   "metadata": {},
   "outputs": [
    {
     "data": {
      "text/plain": [
       "Movie         0\n",
       "Review     2042\n",
       "Ratings     566\n",
       "dtype: int64"
      ]
     },
     "execution_count": 466,
     "metadata": {},
     "output_type": "execute_result"
    }
   ],
   "source": [
    "Movie_Reviews_df.isna().sum()"
   ]
  },
  {
   "cell_type": "code",
   "execution_count": 467,
   "id": "6e2c6c28-6ece-45c3-b5a6-819d464049bf",
   "metadata": {},
   "outputs": [],
   "source": [
    "Movie_Reviews_df.dropna(inplace=True)"
   ]
  },
  {
   "cell_type": "code",
   "execution_count": 468,
   "id": "79b15dc1-5816-4edf-a4f9-60b53686c9a1",
   "metadata": {},
   "outputs": [],
   "source": [
    "def replacenewline(x):\n",
    "    return(str(x).replace('\\n', ' '))\n",
    "Movie_Reviews_df['Review']=Movie_Reviews_df['Review'].apply(replacenewline)"
   ]
  },
  {
   "cell_type": "code",
   "execution_count": 469,
   "id": "c17aa893-1d63-4d20-a783-44296058c952",
   "metadata": {},
   "outputs": [
    {
     "data": {
      "text/html": [
       "<div>\n",
       "<style scoped>\n",
       "    .dataframe tbody tr th:only-of-type {\n",
       "        vertical-align: middle;\n",
       "    }\n",
       "\n",
       "    .dataframe tbody tr th {\n",
       "        vertical-align: top;\n",
       "    }\n",
       "\n",
       "    .dataframe thead th {\n",
       "        text-align: right;\n",
       "    }\n",
       "</style>\n",
       "<table border=\"1\" class=\"dataframe\">\n",
       "  <thead>\n",
       "    <tr style=\"text-align: right;\">\n",
       "      <th></th>\n",
       "      <th>Movie</th>\n",
       "      <th>Review</th>\n",
       "      <th>Ratings</th>\n",
       "    </tr>\n",
       "  </thead>\n",
       "  <tbody>\n",
       "    <tr>\n",
       "      <th>3</th>\n",
       "      <td>hocus pocus 2</td>\n",
       "      <td>where to begin  what's good  umm not much  thi...</td>\n",
       "      <td>1.0</td>\n",
       "    </tr>\n",
       "    <tr>\n",
       "      <th>5</th>\n",
       "      <td>hocus pocus 2</td>\n",
       "      <td>sorry, but this was indeed a big disappointmen...</td>\n",
       "      <td>1.0</td>\n",
       "    </tr>\n",
       "    <tr>\n",
       "      <th>6</th>\n",
       "      <td>hocus pocus 2</td>\n",
       "      <td>took sheer will power to get through the first...</td>\n",
       "      <td>1.0</td>\n",
       "    </tr>\n",
       "    <tr>\n",
       "      <th>8</th>\n",
       "      <td>hocus pocus 2</td>\n",
       "      <td>i didn't expect greatness. i didn't expect ter...</td>\n",
       "      <td>2.0</td>\n",
       "    </tr>\n",
       "    <tr>\n",
       "      <th>9</th>\n",
       "      <td>hocus pocus 2</td>\n",
       "      <td>why? why? why?  i wanted to like this, i tried...</td>\n",
       "      <td>4.0</td>\n",
       "    </tr>\n",
       "    <tr>\n",
       "      <th>...</th>\n",
       "      <td>...</td>\n",
       "      <td>...</td>\n",
       "      <td>...</td>\n",
       "    </tr>\n",
       "    <tr>\n",
       "      <th>10794</th>\n",
       "      <td>bojack horseman</td>\n",
       "      <td>if you can get past the first three episodes w...</td>\n",
       "      <td>9.0</td>\n",
       "    </tr>\n",
       "    <tr>\n",
       "      <th>10795</th>\n",
       "      <td>bojack horseman</td>\n",
       "      <td>bojack horseman is easily one of the best anim...</td>\n",
       "      <td>8.0</td>\n",
       "    </tr>\n",
       "    <tr>\n",
       "      <th>10796</th>\n",
       "      <td>bojack horseman</td>\n",
       "      <td>now that the show is over, i need to shout a b...</td>\n",
       "      <td>10.0</td>\n",
       "    </tr>\n",
       "    <tr>\n",
       "      <th>10798</th>\n",
       "      <td>bojack horseman</td>\n",
       "      <td>when i began watching in 2014 i was not expect...</td>\n",
       "      <td>9.0</td>\n",
       "    </tr>\n",
       "    <tr>\n",
       "      <th>10799</th>\n",
       "      <td>bojack horseman</td>\n",
       "      <td>bojack horseman is not another family guy or s...</td>\n",
       "      <td>10.0</td>\n",
       "    </tr>\n",
       "  </tbody>\n",
       "</table>\n",
       "<p>8332 rows × 3 columns</p>\n",
       "</div>"
      ],
      "text/plain": [
       "                  Movie                                             Review  \\\n",
       "3        hocus pocus 2   where to begin  what's good  umm not much  thi...   \n",
       "5        hocus pocus 2   sorry, but this was indeed a big disappointmen...   \n",
       "6        hocus pocus 2   took sheer will power to get through the first...   \n",
       "8        hocus pocus 2   i didn't expect greatness. i didn't expect ter...   \n",
       "9        hocus pocus 2   why? why? why?  i wanted to like this, i tried...   \n",
       "...                 ...                                                ...   \n",
       "10794  bojack horseman   if you can get past the first three episodes w...   \n",
       "10795  bojack horseman   bojack horseman is easily one of the best anim...   \n",
       "10796  bojack horseman   now that the show is over, i need to shout a b...   \n",
       "10798  bojack horseman   when i began watching in 2014 i was not expect...   \n",
       "10799  bojack horseman   bojack horseman is not another family guy or s...   \n",
       "\n",
       "       Ratings  \n",
       "3          1.0  \n",
       "5          1.0  \n",
       "6          1.0  \n",
       "8          2.0  \n",
       "9          4.0  \n",
       "...        ...  \n",
       "10794      9.0  \n",
       "10795      8.0  \n",
       "10796     10.0  \n",
       "10798      9.0  \n",
       "10799     10.0  \n",
       "\n",
       "[8332 rows x 3 columns]"
      ]
     },
     "execution_count": 469,
     "metadata": {},
     "output_type": "execute_result"
    }
   ],
   "source": [
    "Movie_Reviews_df['Movie'] = Movie_Reviews_df['Movie'].apply(str.lower)\n",
    "Movie_Reviews_df['Review'] = Movie_Reviews_df['Review'].apply(str.lower)\n",
    "Movie_Reviews_df"
   ]
  },
  {
   "cell_type": "markdown",
   "id": "54c95834-fe0d-46ec-9cde-894abe7e5554",
   "metadata": {},
   "source": [
    "# Generating a Movie recommender system based upon User Inputed attributes"
   ]
  },
  {
   "cell_type": "code",
   "execution_count": 470,
   "id": "c34c611f-db4f-403f-b498-21e6c126dd1e",
   "metadata": {},
   "outputs": [
    {
     "data": {
      "text/plain": [
       "'scary horror funny'"
      ]
     },
     "execution_count": 470,
     "metadata": {},
     "output_type": "execute_result"
    }
   ],
   "source": [
    "required_attributes_list=['scary','horror','funny']\n",
    "required_attributes=' '.join(required_attributes_list)\n",
    "required_attributes"
   ]
  },
  {
   "cell_type": "code",
   "execution_count": 471,
   "id": "00f5b8da-a528-4115-b5aa-8de8b23d9510",
   "metadata": {},
   "outputs": [],
   "source": [
    "def cosine(data):\n",
    "    final_data=[data,required_attributes]\n",
    "    count_vectorizer = CountVectorizer()\n",
    "    vector_matrix = count_vectorizer.fit_transform(final_data)\n",
    "    tokens = count_vectorizer.get_feature_names()\n",
    "    cosine_similarity_matrix = cosine_similarity(vector_matrix)\n",
    "    return cosine_similarity_matrix[0][1]"
   ]
  },
  {
   "cell_type": "code",
   "execution_count": 472,
   "id": "dfe97a4f-fc9b-4980-abae-d94763f25c56",
   "metadata": {},
   "outputs": [
    {
     "name": "stderr",
     "output_type": "stream",
     "text": [
      "/Users/aashi/opt/anaconda3/lib/python3.9/site-packages/sklearn/utils/deprecation.py:87: FutureWarning: Function get_feature_names is deprecated; get_feature_names is deprecated in 1.0 and will be removed in 1.2. Please use get_feature_names_out instead.\n",
      "  warnings.warn(msg, category=FutureWarning)\n"
     ]
    }
   ],
   "source": [
    "Movie_Reviews_df['Cosine_Similarity']=Movie_Reviews_df['Review'].apply(cosine)"
   ]
  },
  {
   "cell_type": "code",
   "execution_count": 473,
   "id": "54a9ca36-c9a9-467a-8447-8f877c79296c",
   "metadata": {},
   "outputs": [
    {
     "data": {
      "text/html": [
       "<div>\n",
       "<style scoped>\n",
       "    .dataframe tbody tr th:only-of-type {\n",
       "        vertical-align: middle;\n",
       "    }\n",
       "\n",
       "    .dataframe tbody tr th {\n",
       "        vertical-align: top;\n",
       "    }\n",
       "\n",
       "    .dataframe thead th {\n",
       "        text-align: right;\n",
       "    }\n",
       "</style>\n",
       "<table border=\"1\" class=\"dataframe\">\n",
       "  <thead>\n",
       "    <tr style=\"text-align: right;\">\n",
       "      <th></th>\n",
       "      <th>Movie</th>\n",
       "      <th>Review</th>\n",
       "      <th>Ratings</th>\n",
       "      <th>Cosine_Similarity</th>\n",
       "    </tr>\n",
       "  </thead>\n",
       "  <tbody>\n",
       "    <tr>\n",
       "      <th>3</th>\n",
       "      <td>hocus pocus 2</td>\n",
       "      <td>where to begin  what's good  umm not much  thi...</td>\n",
       "      <td>1.0</td>\n",
       "      <td>0.000000</td>\n",
       "    </tr>\n",
       "    <tr>\n",
       "      <th>5</th>\n",
       "      <td>hocus pocus 2</td>\n",
       "      <td>sorry, but this was indeed a big disappointmen...</td>\n",
       "      <td>1.0</td>\n",
       "      <td>0.000000</td>\n",
       "    </tr>\n",
       "    <tr>\n",
       "      <th>6</th>\n",
       "      <td>hocus pocus 2</td>\n",
       "      <td>took sheer will power to get through the first...</td>\n",
       "      <td>1.0</td>\n",
       "      <td>0.000000</td>\n",
       "    </tr>\n",
       "    <tr>\n",
       "      <th>8</th>\n",
       "      <td>hocus pocus 2</td>\n",
       "      <td>i didn't expect greatness. i didn't expect ter...</td>\n",
       "      <td>2.0</td>\n",
       "      <td>0.000000</td>\n",
       "    </tr>\n",
       "    <tr>\n",
       "      <th>9</th>\n",
       "      <td>hocus pocus 2</td>\n",
       "      <td>why? why? why?  i wanted to like this, i tried...</td>\n",
       "      <td>4.0</td>\n",
       "      <td>0.000000</td>\n",
       "    </tr>\n",
       "    <tr>\n",
       "      <th>...</th>\n",
       "      <td>...</td>\n",
       "      <td>...</td>\n",
       "      <td>...</td>\n",
       "      <td>...</td>\n",
       "    </tr>\n",
       "    <tr>\n",
       "      <th>10794</th>\n",
       "      <td>bojack horseman</td>\n",
       "      <td>if you can get past the first three episodes w...</td>\n",
       "      <td>9.0</td>\n",
       "      <td>0.040825</td>\n",
       "    </tr>\n",
       "    <tr>\n",
       "      <th>10795</th>\n",
       "      <td>bojack horseman</td>\n",
       "      <td>bojack horseman is easily one of the best anim...</td>\n",
       "      <td>8.0</td>\n",
       "      <td>0.000000</td>\n",
       "    </tr>\n",
       "    <tr>\n",
       "      <th>10796</th>\n",
       "      <td>bojack horseman</td>\n",
       "      <td>now that the show is over, i need to shout a b...</td>\n",
       "      <td>10.0</td>\n",
       "      <td>0.000000</td>\n",
       "    </tr>\n",
       "    <tr>\n",
       "      <th>10798</th>\n",
       "      <td>bojack horseman</td>\n",
       "      <td>when i began watching in 2014 i was not expect...</td>\n",
       "      <td>9.0</td>\n",
       "      <td>0.000000</td>\n",
       "    </tr>\n",
       "    <tr>\n",
       "      <th>10799</th>\n",
       "      <td>bojack horseman</td>\n",
       "      <td>bojack horseman is not another family guy or s...</td>\n",
       "      <td>10.0</td>\n",
       "      <td>0.058621</td>\n",
       "    </tr>\n",
       "  </tbody>\n",
       "</table>\n",
       "<p>8332 rows × 4 columns</p>\n",
       "</div>"
      ],
      "text/plain": [
       "                  Movie                                             Review  \\\n",
       "3        hocus pocus 2   where to begin  what's good  umm not much  thi...   \n",
       "5        hocus pocus 2   sorry, but this was indeed a big disappointmen...   \n",
       "6        hocus pocus 2   took sheer will power to get through the first...   \n",
       "8        hocus pocus 2   i didn't expect greatness. i didn't expect ter...   \n",
       "9        hocus pocus 2   why? why? why?  i wanted to like this, i tried...   \n",
       "...                 ...                                                ...   \n",
       "10794  bojack horseman   if you can get past the first three episodes w...   \n",
       "10795  bojack horseman   bojack horseman is easily one of the best anim...   \n",
       "10796  bojack horseman   now that the show is over, i need to shout a b...   \n",
       "10798  bojack horseman   when i began watching in 2014 i was not expect...   \n",
       "10799  bojack horseman   bojack horseman is not another family guy or s...   \n",
       "\n",
       "       Ratings  Cosine_Similarity  \n",
       "3          1.0           0.000000  \n",
       "5          1.0           0.000000  \n",
       "6          1.0           0.000000  \n",
       "8          2.0           0.000000  \n",
       "9          4.0           0.000000  \n",
       "...        ...                ...  \n",
       "10794      9.0           0.040825  \n",
       "10795      8.0           0.000000  \n",
       "10796     10.0           0.000000  \n",
       "10798      9.0           0.000000  \n",
       "10799     10.0           0.058621  \n",
       "\n",
       "[8332 rows x 4 columns]"
      ]
     },
     "execution_count": 473,
     "metadata": {},
     "output_type": "execute_result"
    }
   ],
   "source": [
    "Movie_Reviews_df"
   ]
  },
  {
   "cell_type": "code",
   "execution_count": 474,
   "id": "e4104842-4e8d-4798-a5b2-c783b0019989",
   "metadata": {},
   "outputs": [
    {
     "data": {
      "text/html": [
       "<div>\n",
       "<style scoped>\n",
       "    .dataframe tbody tr th:only-of-type {\n",
       "        vertical-align: middle;\n",
       "    }\n",
       "\n",
       "    .dataframe tbody tr th {\n",
       "        vertical-align: top;\n",
       "    }\n",
       "\n",
       "    .dataframe thead th {\n",
       "        text-align: right;\n",
       "    }\n",
       "</style>\n",
       "<table border=\"1\" class=\"dataframe\">\n",
       "  <thead>\n",
       "    <tr style=\"text-align: right;\">\n",
       "      <th></th>\n",
       "      <th>Movie</th>\n",
       "      <th>Cosine_Similarity</th>\n",
       "    </tr>\n",
       "  </thead>\n",
       "  <tbody>\n",
       "    <tr>\n",
       "      <th>209</th>\n",
       "      <td>trick 'r treat</td>\n",
       "      <td>0.065360</td>\n",
       "    </tr>\n",
       "    <tr>\n",
       "      <th>110</th>\n",
       "      <td>my best friend's exorcism</td>\n",
       "      <td>0.061109</td>\n",
       "    </tr>\n",
       "    <tr>\n",
       "      <th>18</th>\n",
       "      <td>barbarian</td>\n",
       "      <td>0.052833</td>\n",
       "    </tr>\n",
       "    <tr>\n",
       "      <th>148</th>\n",
       "      <td>sissy</td>\n",
       "      <td>0.052495</td>\n",
       "    </tr>\n",
       "    <tr>\n",
       "      <th>151</th>\n",
       "      <td>speak no evil</td>\n",
       "      <td>0.051136</td>\n",
       "    </tr>\n",
       "  </tbody>\n",
       "</table>\n",
       "</div>"
      ],
      "text/plain": [
       "                          Movie  Cosine_Similarity\n",
       "209             trick 'r treat            0.065360\n",
       "110  my best friend's exorcism            0.061109\n",
       "18                   barbarian            0.052833\n",
       "148                      sissy            0.052495\n",
       "151              speak no evil            0.051136"
      ]
     },
     "execution_count": 474,
     "metadata": {},
     "output_type": "execute_result"
    }
   ],
   "source": [
    "Movie_Reviews=Movie_Reviews_df.groupby(['Movie']).agg({'Cosine_Similarity':'mean','Ratings':'mean'})\n",
    "Movie_Reviews.reset_index(inplace=True)\n",
    "Movie_Reviews[['Movie','Cosine_Similarity']].sort_values(by='Cosine_Similarity', ascending=False).head(5)"
   ]
  },
  {
   "cell_type": "markdown",
   "id": "b27bf5c2-9fbb-433d-a0d0-5fe695b81336",
   "metadata": {},
   "source": [
    "\n",
    "# Finding Top 5 Movies of different Genres based upon Lift Values of Reviews"
   ]
  },
  {
   "cell_type": "code",
   "execution_count": 477,
   "id": "52fc3a7a-211d-43ed-880c-5c3f52581e53",
   "metadata": {},
   "outputs": [],
   "source": [
    "def removing_stopwords(text):\n",
    "    text_tokens = word_tokenize(text)\n",
    "    tokens_without_sw =' '.join([word for word in text_tokens if not word in stopwords.words('english')])\n",
    "    text_tokens = list(set(word_tokenize(tokens_without_sw)))\n",
    "    return text_tokens\n",
    "\n",
    "Movie_Reviews_df['Review_tokenized']=Movie_Reviews_df['Review'].apply(removing_stopwords)"
   ]
  },
  {
   "cell_type": "code",
   "execution_count": 480,
   "id": "aab5ae3f-e26e-44f1-8f3f-9d7c01294306",
   "metadata": {},
   "outputs": [
    {
     "data": {
      "text/html": [
       "<div>\n",
       "<style scoped>\n",
       "    .dataframe tbody tr th:only-of-type {\n",
       "        vertical-align: middle;\n",
       "    }\n",
       "\n",
       "    .dataframe tbody tr th {\n",
       "        vertical-align: top;\n",
       "    }\n",
       "\n",
       "    .dataframe thead th {\n",
       "        text-align: right;\n",
       "    }\n",
       "</style>\n",
       "<table border=\"1\" class=\"dataframe\">\n",
       "  <thead>\n",
       "    <tr style=\"text-align: right;\">\n",
       "      <th></th>\n",
       "      <th>Movie</th>\n",
       "      <th>Review</th>\n",
       "      <th>Ratings</th>\n",
       "      <th>Cosine_Similarity</th>\n",
       "      <th>Review_tokenized</th>\n",
       "    </tr>\n",
       "  </thead>\n",
       "  <tbody>\n",
       "    <tr>\n",
       "      <th>3</th>\n",
       "      <td>hocus pocus 2</td>\n",
       "      <td>where to begin  what's good  umm not much  thi...</td>\n",
       "      <td>1.0</td>\n",
       "      <td>0.000000</td>\n",
       "      <td>[., must, disnification, another, dissappointe...</td>\n",
       "    </tr>\n",
       "    <tr>\n",
       "      <th>5</th>\n",
       "      <td>hocus pocus 2</td>\n",
       "      <td>sorry, but this was indeed a big disappointmen...</td>\n",
       "      <td>1.0</td>\n",
       "      <td>0.000000</td>\n",
       "      <td>[indeed, compensate, ., financially, n't, expe...</td>\n",
       "    </tr>\n",
       "    <tr>\n",
       "      <th>6</th>\n",
       "      <td>hocus pocus 2</td>\n",
       "      <td>took sheer will power to get through the first...</td>\n",
       "      <td>1.0</td>\n",
       "      <td>0.000000</td>\n",
       "      <td>[., waiting, n't, love, 10, comfort, terrible,...</td>\n",
       "    </tr>\n",
       "    <tr>\n",
       "      <th>8</th>\n",
       "      <td>hocus pocus 2</td>\n",
       "      <td>i didn't expect greatness. i didn't expect ter...</td>\n",
       "      <td>2.0</td>\n",
       "      <td>0.000000</td>\n",
       "      <td>[., tried, n't, give, brings, expect, want, vi...</td>\n",
       "    </tr>\n",
       "    <tr>\n",
       "      <th>9</th>\n",
       "      <td>hocus pocus 2</td>\n",
       "      <td>why? why? why?  i wanted to like this, i tried...</td>\n",
       "      <td>4.0</td>\n",
       "      <td>0.000000</td>\n",
       "      <td>[tried, wanted, ., n't, sake, 4, casting, dull...</td>\n",
       "    </tr>\n",
       "    <tr>\n",
       "      <th>...</th>\n",
       "      <td>...</td>\n",
       "      <td>...</td>\n",
       "      <td>...</td>\n",
       "      <td>...</td>\n",
       "      <td>...</td>\n",
       "    </tr>\n",
       "    <tr>\n",
       "      <th>10794</th>\n",
       "      <td>bojack horseman</td>\n",
       "      <td>if you can get past the first three episodes w...</td>\n",
       "      <td>9.0</td>\n",
       "      <td>0.040825</td>\n",
       "      <td>[., say, expect, episodes, mental, get, bad, t...</td>\n",
       "    </tr>\n",
       "    <tr>\n",
       "      <th>10795</th>\n",
       "      <td>bojack horseman</td>\n",
       "      <td>bojack horseman is easily one of the best anim...</td>\n",
       "      <td>8.0</td>\n",
       "      <td>0.000000</td>\n",
       "      <td>[., hearing, say, n't, alcoholic, said, right,...</td>\n",
       "    </tr>\n",
       "    <tr>\n",
       "      <th>10796</th>\n",
       "      <td>bojack horseman</td>\n",
       "      <td>now that the show is over, i need to shout a b...</td>\n",
       "      <td>10.0</td>\n",
       "      <td>0.000000</td>\n",
       "      <td>[people, thank, ., need, ,, show, shout, big, ...</td>\n",
       "    </tr>\n",
       "    <tr>\n",
       "      <th>10798</th>\n",
       "      <td>bojack horseman</td>\n",
       "      <td>when i began watching in 2014 i was not expect...</td>\n",
       "      <td>9.0</td>\n",
       "      <td>0.000000</td>\n",
       "      <td>[., n't, character, life, imagine, complete, d...</td>\n",
       "    </tr>\n",
       "    <tr>\n",
       "      <th>10799</th>\n",
       "      <td>bojack horseman</td>\n",
       "      <td>bojack horseman is not another family guy or s...</td>\n",
       "      <td>10.0</td>\n",
       "      <td>0.058621</td>\n",
       "      <td>[animation, ., modern, cartoon, episodes, get,...</td>\n",
       "    </tr>\n",
       "  </tbody>\n",
       "</table>\n",
       "<p>8332 rows × 5 columns</p>\n",
       "</div>"
      ],
      "text/plain": [
       "                  Movie                                             Review  \\\n",
       "3        hocus pocus 2   where to begin  what's good  umm not much  thi...   \n",
       "5        hocus pocus 2   sorry, but this was indeed a big disappointmen...   \n",
       "6        hocus pocus 2   took sheer will power to get through the first...   \n",
       "8        hocus pocus 2   i didn't expect greatness. i didn't expect ter...   \n",
       "9        hocus pocus 2   why? why? why?  i wanted to like this, i tried...   \n",
       "...                 ...                                                ...   \n",
       "10794  bojack horseman   if you can get past the first three episodes w...   \n",
       "10795  bojack horseman   bojack horseman is easily one of the best anim...   \n",
       "10796  bojack horseman   now that the show is over, i need to shout a b...   \n",
       "10798  bojack horseman   when i began watching in 2014 i was not expect...   \n",
       "10799  bojack horseman   bojack horseman is not another family guy or s...   \n",
       "\n",
       "       Ratings  Cosine_Similarity  \\\n",
       "3          1.0           0.000000   \n",
       "5          1.0           0.000000   \n",
       "6          1.0           0.000000   \n",
       "8          2.0           0.000000   \n",
       "9          4.0           0.000000   \n",
       "...        ...                ...   \n",
       "10794      9.0           0.040825   \n",
       "10795      8.0           0.000000   \n",
       "10796     10.0           0.000000   \n",
       "10798      9.0           0.000000   \n",
       "10799     10.0           0.058621   \n",
       "\n",
       "                                        Review_tokenized  \n",
       "3      [., must, disnification, another, dissappointe...  \n",
       "5      [indeed, compensate, ., financially, n't, expe...  \n",
       "6      [., waiting, n't, love, 10, comfort, terrible,...  \n",
       "8      [., tried, n't, give, brings, expect, want, vi...  \n",
       "9      [tried, wanted, ., n't, sake, 4, casting, dull...  \n",
       "...                                                  ...  \n",
       "10794  [., say, expect, episodes, mental, get, bad, t...  \n",
       "10795  [., hearing, say, n't, alcoholic, said, right,...  \n",
       "10796  [people, thank, ., need, ,, show, shout, big, ...  \n",
       "10798  [., n't, character, life, imagine, complete, d...  \n",
       "10799  [animation, ., modern, cartoon, episodes, get,...  \n",
       "\n",
       "[8332 rows x 5 columns]"
      ]
     },
     "execution_count": 480,
     "metadata": {},
     "output_type": "execute_result"
    }
   ],
   "source": [
    "Movie_Reviews_df"
   ]
  },
  {
   "cell_type": "code",
   "execution_count": 526,
   "id": "4422a766-1e3a-4f10-9536-01cecc2738e8",
   "metadata": {},
   "outputs": [],
   "source": [
    "features=['horror' ,'sci-fi' , 'romantic', 'action', 'drama', 'fantasy', 'animation','mystery', 'comedy','thriller', 'superhero','war','cartoon','kids']"
   ]
  },
  {
   "cell_type": "code",
   "execution_count": 614,
   "id": "d0adfe41-7cce-4280-b74b-11f5f35462ab",
   "metadata": {
    "id": "pj4va5dEBDsD"
   },
   "outputs": [],
   "source": [
    "def list_words(x,y):\n",
    "    word_list=[]\n",
    "    for row in x[y]:\n",
    "        word_list+=list(set(row))\n",
    "    return word_list\n",
    "\n",
    "Word_list=list_words(Movie_Reviews_df,'Review_tokenized')\n",
    "word_freq = nltk.FreqDist(Word_list)"
   ]
  },
  {
   "cell_type": "code",
   "execution_count": 622,
   "id": "389fbf1e-b9ee-4b42-9bf9-54756e115e53",
   "metadata": {},
   "outputs": [
    {
     "name": "stdout",
     "output_type": "stream",
     "text": [
      "The features from frequency counts \n",
      "\n"
     ]
    },
    {
     "data": {
      "text/plain": [
       "[('action', 804),\n",
       " ('horror', 709),\n",
       " ('drama', 701),\n",
       " ('comedy', 649),\n",
       " ('mystery', 360),\n",
       " ('kids', 307),\n",
       " ('thriller', 285),\n",
       " ('animation', 251),\n",
       " ('sci-fi', 168),\n",
       " ('fantasy', 154),\n",
       " ('war', 151),\n",
       " ('superhero', 139),\n",
       " ('cartoon', 90),\n",
       " ('romantic', 78)]"
      ]
     },
     "execution_count": 622,
     "metadata": {},
     "output_type": "execute_result"
    }
   ],
   "source": [
    "\n",
    "#Filtering counts for brands\n",
    "feature_counts = []\n",
    "for key,item in word_freq.most_common(5000):\n",
    "    if key in features:\n",
    "        temp = (key,item)\n",
    "        feature_counts.append(temp)\n",
    "print(\"The features from frequency counts \\n\")\n",
    "feature_counts"
   ]
  },
  {
   "cell_type": "code",
   "execution_count": 623,
   "id": "641d8274-70c8-4e06-988c-fa0322df6eba",
   "metadata": {
    "id": "QlCbj35-BDu0"
   },
   "outputs": [],
   "source": [
    "key=list()\n",
    "value=list()\n",
    "log_value=list()\n",
    "for entry in feature_counts:\n",
    "    key.append(str(entry[0]))\n",
    "    value.append(int(entry[1]))"
   ]
  },
  {
   "cell_type": "code",
   "execution_count": 624,
   "id": "96b6ddf8-8a6f-4970-830c-ba76fa39550e",
   "metadata": {
    "colab": {
     "base_uri": "https://localhost:8080/",
     "height": 518
    },
    "id": "tuIcAOYyoKm9",
    "outputId": "37752fab-5888-4ab4-9a6b-97f616d57a96"
   },
   "outputs": [
    {
     "data": {
      "image/png": "[encoded data removed]",
      "text/plain": [
       "<Figure size 1200x480 with 1 Axes>"
      ]
     },
     "metadata": {
      "needs_background": "light"
     },
     "output_type": "display_data"
    }
   ],
   "source": [
    "plt.figure(figsize=(15, 6), dpi=80)\n",
    "plt.plot(key, value)  \n",
    "plt.title('Frequencies of Words')\n",
    "plt.xlabel('Word')\n",
    "plt.ylabel('Frequencies')\n",
    "plt.xticks(rotation = 90)\n",
    "plt.show()"
   ]
  },
  {
   "cell_type": "code",
   "execution_count": 527,
   "id": "af34b6fd-261f-4ddb-ac13-ac0ba9eb748b",
   "metadata": {
    "id": "exCXvYkSpiiZ"
   },
   "outputs": [
    {
     "data": {
      "text/html": [
       "<div>\n",
       "<style scoped>\n",
       "    .dataframe tbody tr th:only-of-type {\n",
       "        vertical-align: middle;\n",
       "    }\n",
       "\n",
       "    .dataframe tbody tr th {\n",
       "        vertical-align: top;\n",
       "    }\n",
       "\n",
       "    .dataframe thead th {\n",
       "        text-align: right;\n",
       "    }\n",
       "</style>\n",
       "<table border=\"1\" class=\"dataframe\">\n",
       "  <thead>\n",
       "    <tr style=\"text-align: right;\">\n",
       "      <th></th>\n",
       "      <th>my best friend's exorcism</th>\n",
       "      <th>the midnight club</th>\n",
       "      <th>midsommar</th>\n",
       "      <th>my friend dahmer</th>\n",
       "      <th>a friend of the family</th>\n",
       "      <th>lyle, lyle, crocodile</th>\n",
       "      <th>the nightmare before christmas</th>\n",
       "      <th>black mirror</th>\n",
       "      <th>the x-files</th>\n",
       "      <th>east new york</th>\n",
       "      <th>...</th>\n",
       "      <th>drama</th>\n",
       "      <th>fantasy</th>\n",
       "      <th>animation</th>\n",
       "      <th>mystery</th>\n",
       "      <th>comedy</th>\n",
       "      <th>thriller</th>\n",
       "      <th>superhero</th>\n",
       "      <th>war</th>\n",
       "      <th>cartoon</th>\n",
       "      <th>kids</th>\n",
       "    </tr>\n",
       "  </thead>\n",
       "  <tbody>\n",
       "  </tbody>\n",
       "</table>\n",
       "<p>0 rows × 241 columns</p>\n",
       "</div>"
      ],
      "text/plain": [
       "Empty DataFrame\n",
       "Columns: [my best friend's exorcism , the midnight club , midsommar , my friend dahmer , a friend of the family , lyle, lyle, crocodile , the nightmare before christmas , black mirror , the x-files , east new york , the lord of the rings: the rings of power , breaking bad , top gun , the rookie: feds , laal singh chaddha , the invitation , rick and morty , game of thrones , ponniyin selvan: part i , the wire , rogue one: a star wars story , halloween , trick 'r treat , everything everywhere all at once , once upon a time , american gigolo , law & order , significant other , family guy , halloween ends , plan a plan b , athena , the white lotus , kantara , american horror stories , big sky , chicago p.d. , hocus pocus , 9-1-1 , the munsters , ted lasso , westworld , the black phone , archer , doctor who , memory , vikram vedha , abbott elementary , american horror story , attack on titan , ozark , vikings , super mario bros. , house of the dragon , hocus pocus 2 , supernatural , the woman king , the patient , lou , see how they run , elvis , ramy , riverdale , prey , blue bloods , the umbrella academy , mindhunter , gilmore girls , criminal minds , brooklyn nine-nine , severance , speak no evil , new girl , grey's anatomy , star trek: lower decks , the greatest beer run ever , the old man , cyberpunk: edgerunners , dahmer , bridgerton , spider-man: no way home , manifest , ncis , chucky , barbarian , pearl , sherwood , minions: the rise of gru , modern family , vesper , see , la brea , that '70s show , the crown , true blood , fbi , terrifier 2 , two and a half men , call me by your name , my hero academia , ...]\n",
       "Index: []\n",
       "\n",
       "[0 rows x 241 columns]"
      ]
     },
     "execution_count": 527,
     "metadata": {},
     "output_type": "execute_result"
    }
   ],
   "source": [
    "movies_list=list(set(Movie_Reviews_df['Movie']))\n",
    "movies_count = pd.DataFrame(columns = movies_list+features)\n",
    "movies_count"
   ]
  },
  {
   "cell_type": "code",
   "execution_count": 528,
   "id": "1cefd287-54ae-42ce-ab1c-65c1c59fc16a",
   "metadata": {
    "id": "60F605gpITCm",
    "tags": []
   },
   "outputs": [],
   "source": [
    "def feature_counter(item):\n",
    "    if feature in item:\n",
    "        return 1\n",
    "    else:\n",
    "        return 0\n",
    "    \n",
    "def movie_counter(item):\n",
    "    if mov in item:\n",
    "        return 1\n",
    "    else:\n",
    "        return 0\n",
    "      \n",
    "for  mov in movies_list:\n",
    "    movies_count[mov] = Movie_Reviews_df['Movie'].apply(movie_counter)  \n",
    "\n",
    "for  feature in features:\n",
    "    movies_count[feature] = Movie_Reviews_df['Review_tokenized'].apply(feature_counter)"
   ]
  },
  {
   "cell_type": "code",
   "execution_count": 529,
   "id": "1e1724ec-5802-4362-8662-4e430cb66b2b",
   "metadata": {
    "id": "WzWCWN07ITCn"
   },
   "outputs": [
    {
     "data": {
      "text/html": [
       "<div>\n",
       "<style scoped>\n",
       "    .dataframe tbody tr th:only-of-type {\n",
       "        vertical-align: middle;\n",
       "    }\n",
       "\n",
       "    .dataframe tbody tr th {\n",
       "        vertical-align: top;\n",
       "    }\n",
       "\n",
       "    .dataframe thead th {\n",
       "        text-align: right;\n",
       "    }\n",
       "</style>\n",
       "<table border=\"1\" class=\"dataframe\">\n",
       "  <thead>\n",
       "    <tr style=\"text-align: right;\">\n",
       "      <th></th>\n",
       "      <th>horror</th>\n",
       "      <th>sci-fi</th>\n",
       "      <th>romantic</th>\n",
       "      <th>action</th>\n",
       "      <th>drama</th>\n",
       "      <th>fantasy</th>\n",
       "      <th>animation</th>\n",
       "      <th>mystery</th>\n",
       "      <th>comedy</th>\n",
       "      <th>thriller</th>\n",
       "      <th>superhero</th>\n",
       "      <th>war</th>\n",
       "      <th>cartoon</th>\n",
       "      <th>kids</th>\n",
       "    </tr>\n",
       "  </thead>\n",
       "  <tbody>\n",
       "    <tr>\n",
       "      <th>my best friend's exorcism</th>\n",
       "      <td>6.610367</td>\n",
       "      <td>0.0</td>\n",
       "      <td>0.0</td>\n",
       "      <td>0.000000</td>\n",
       "      <td>0.742867</td>\n",
       "      <td>0.000000</td>\n",
       "      <td>0.0</td>\n",
       "      <td>0.000000</td>\n",
       "      <td>4.814330</td>\n",
       "      <td>0.000000</td>\n",
       "      <td>0.0</td>\n",
       "      <td>0.000000</td>\n",
       "      <td>0.000000</td>\n",
       "      <td>1.696254</td>\n",
       "    </tr>\n",
       "    <tr>\n",
       "      <th>the midnight club</th>\n",
       "      <td>5.288293</td>\n",
       "      <td>0.0</td>\n",
       "      <td>0.0</td>\n",
       "      <td>0.000000</td>\n",
       "      <td>2.377175</td>\n",
       "      <td>0.000000</td>\n",
       "      <td>0.0</td>\n",
       "      <td>4.628889</td>\n",
       "      <td>0.000000</td>\n",
       "      <td>0.000000</td>\n",
       "      <td>0.0</td>\n",
       "      <td>0.000000</td>\n",
       "      <td>4.628889</td>\n",
       "      <td>4.071010</td>\n",
       "    </tr>\n",
       "    <tr>\n",
       "      <th>midsommar</th>\n",
       "      <td>7.834509</td>\n",
       "      <td>0.0</td>\n",
       "      <td>0.0</td>\n",
       "      <td>0.000000</td>\n",
       "      <td>1.584784</td>\n",
       "      <td>3.606926</td>\n",
       "      <td>0.0</td>\n",
       "      <td>3.085926</td>\n",
       "      <td>0.855881</td>\n",
       "      <td>0.000000</td>\n",
       "      <td>0.0</td>\n",
       "      <td>0.000000</td>\n",
       "      <td>0.000000</td>\n",
       "      <td>1.809338</td>\n",
       "    </tr>\n",
       "    <tr>\n",
       "      <th>my friend dahmer</th>\n",
       "      <td>1.958627</td>\n",
       "      <td>0.0</td>\n",
       "      <td>0.0</td>\n",
       "      <td>0.000000</td>\n",
       "      <td>1.980980</td>\n",
       "      <td>0.000000</td>\n",
       "      <td>0.0</td>\n",
       "      <td>0.000000</td>\n",
       "      <td>1.426468</td>\n",
       "      <td>1.624172</td>\n",
       "      <td>0.0</td>\n",
       "      <td>0.000000</td>\n",
       "      <td>0.000000</td>\n",
       "      <td>3.015563</td>\n",
       "    </tr>\n",
       "    <tr>\n",
       "      <th>a friend of the family</th>\n",
       "      <td>0.000000</td>\n",
       "      <td>0.0</td>\n",
       "      <td>0.0</td>\n",
       "      <td>0.000000</td>\n",
       "      <td>0.000000</td>\n",
       "      <td>0.000000</td>\n",
       "      <td>0.0</td>\n",
       "      <td>0.000000</td>\n",
       "      <td>0.641911</td>\n",
       "      <td>0.000000</td>\n",
       "      <td>0.0</td>\n",
       "      <td>0.000000</td>\n",
       "      <td>0.000000</td>\n",
       "      <td>1.357003</td>\n",
       "    </tr>\n",
       "    <tr>\n",
       "      <th>...</th>\n",
       "      <td>...</td>\n",
       "      <td>...</td>\n",
       "      <td>...</td>\n",
       "      <td>...</td>\n",
       "      <td>...</td>\n",
       "      <td>...</td>\n",
       "      <td>...</td>\n",
       "      <td>...</td>\n",
       "      <td>...</td>\n",
       "      <td>...</td>\n",
       "      <td>...</td>\n",
       "      <td>...</td>\n",
       "      <td>...</td>\n",
       "      <td>...</td>\n",
       "    </tr>\n",
       "    <tr>\n",
       "      <th>law &amp; order: special victims unit</th>\n",
       "      <td>0.000000</td>\n",
       "      <td>0.0</td>\n",
       "      <td>0.0</td>\n",
       "      <td>0.000000</td>\n",
       "      <td>0.625572</td>\n",
       "      <td>0.000000</td>\n",
       "      <td>0.0</td>\n",
       "      <td>1.218129</td>\n",
       "      <td>0.000000</td>\n",
       "      <td>0.000000</td>\n",
       "      <td>0.0</td>\n",
       "      <td>0.000000</td>\n",
       "      <td>0.000000</td>\n",
       "      <td>0.000000</td>\n",
       "    </tr>\n",
       "    <tr>\n",
       "      <th>thor: love and thunder</th>\n",
       "      <td>0.000000</td>\n",
       "      <td>0.0</td>\n",
       "      <td>0.0</td>\n",
       "      <td>0.545431</td>\n",
       "      <td>0.000000</td>\n",
       "      <td>0.000000</td>\n",
       "      <td>0.0</td>\n",
       "      <td>0.000000</td>\n",
       "      <td>1.351391</td>\n",
       "      <td>0.000000</td>\n",
       "      <td>0.0</td>\n",
       "      <td>2.904148</td>\n",
       "      <td>0.000000</td>\n",
       "      <td>2.142637</td>\n",
       "    </tr>\n",
       "    <tr>\n",
       "      <th>peaky blinders</th>\n",
       "      <td>0.000000</td>\n",
       "      <td>0.0</td>\n",
       "      <td>0.0</td>\n",
       "      <td>1.413161</td>\n",
       "      <td>4.862404</td>\n",
       "      <td>0.000000</td>\n",
       "      <td>0.0</td>\n",
       "      <td>0.000000</td>\n",
       "      <td>0.000000</td>\n",
       "      <td>0.000000</td>\n",
       "      <td>0.0</td>\n",
       "      <td>10.032511</td>\n",
       "      <td>0.000000</td>\n",
       "      <td>0.000000</td>\n",
       "    </tr>\n",
       "    <tr>\n",
       "      <th>the bear</th>\n",
       "      <td>0.000000</td>\n",
       "      <td>0.0</td>\n",
       "      <td>0.0</td>\n",
       "      <td>0.431799</td>\n",
       "      <td>1.485735</td>\n",
       "      <td>2.254329</td>\n",
       "      <td>0.0</td>\n",
       "      <td>0.000000</td>\n",
       "      <td>3.744479</td>\n",
       "      <td>0.000000</td>\n",
       "      <td>0.0</td>\n",
       "      <td>0.000000</td>\n",
       "      <td>0.000000</td>\n",
       "      <td>0.000000</td>\n",
       "    </tr>\n",
       "    <tr>\n",
       "      <th>better call saul</th>\n",
       "      <td>0.000000</td>\n",
       "      <td>0.0</td>\n",
       "      <td>0.0</td>\n",
       "      <td>0.000000</td>\n",
       "      <td>0.594294</td>\n",
       "      <td>0.000000</td>\n",
       "      <td>0.0</td>\n",
       "      <td>0.000000</td>\n",
       "      <td>1.283821</td>\n",
       "      <td>1.461754</td>\n",
       "      <td>0.0</td>\n",
       "      <td>0.000000</td>\n",
       "      <td>0.000000</td>\n",
       "      <td>0.000000</td>\n",
       "    </tr>\n",
       "  </tbody>\n",
       "</table>\n",
       "<p>227 rows × 14 columns</p>\n",
       "</div>"
      ],
      "text/plain": [
       "                                      horror  sci-fi  romantic    action  \\\n",
       "my best friend's exorcism           6.610367     0.0       0.0  0.000000   \n",
       "the midnight club                   5.288293     0.0       0.0  0.000000   \n",
       "midsommar                           7.834509     0.0       0.0  0.000000   \n",
       "my friend dahmer                    1.958627     0.0       0.0  0.000000   \n",
       "a friend of the family              0.000000     0.0       0.0  0.000000   \n",
       "...                                      ...     ...       ...       ...   \n",
       "law & order: special victims unit   0.000000     0.0       0.0  0.000000   \n",
       "thor: love and thunder              0.000000     0.0       0.0  0.545431   \n",
       "peaky blinders                      0.000000     0.0       0.0  1.413161   \n",
       "the bear                            0.000000     0.0       0.0  0.431799   \n",
       "better call saul                    0.000000     0.0       0.0  0.000000   \n",
       "\n",
       "                                       drama   fantasy  animation   mystery  \\\n",
       "my best friend's exorcism           0.742867  0.000000        0.0  0.000000   \n",
       "the midnight club                   2.377175  0.000000        0.0  4.628889   \n",
       "midsommar                           1.584784  3.606926        0.0  3.085926   \n",
       "my friend dahmer                    1.980980  0.000000        0.0  0.000000   \n",
       "a friend of the family              0.000000  0.000000        0.0  0.000000   \n",
       "...                                      ...       ...        ...       ...   \n",
       "law & order: special victims unit   0.625572  0.000000        0.0  1.218129   \n",
       "thor: love and thunder              0.000000  0.000000        0.0  0.000000   \n",
       "peaky blinders                      4.862404  0.000000        0.0  0.000000   \n",
       "the bear                            1.485735  2.254329        0.0  0.000000   \n",
       "better call saul                    0.594294  0.000000        0.0  0.000000   \n",
       "\n",
       "                                      comedy  thriller  superhero        war  \\\n",
       "my best friend's exorcism           4.814330  0.000000        0.0   0.000000   \n",
       "the midnight club                   0.000000  0.000000        0.0   0.000000   \n",
       "midsommar                           0.855881  0.000000        0.0   0.000000   \n",
       "my friend dahmer                    1.426468  1.624172        0.0   0.000000   \n",
       "a friend of the family              0.641911  0.000000        0.0   0.000000   \n",
       "...                                      ...       ...        ...        ...   \n",
       "law & order: special victims unit   0.000000  0.000000        0.0   0.000000   \n",
       "thor: love and thunder              1.351391  0.000000        0.0   2.904148   \n",
       "peaky blinders                      0.000000  0.000000        0.0  10.032511   \n",
       "the bear                            3.744479  0.000000        0.0   0.000000   \n",
       "better call saul                    1.283821  1.461754        0.0   0.000000   \n",
       "\n",
       "                                     cartoon      kids  \n",
       "my best friend's exorcism           0.000000  1.696254  \n",
       "the midnight club                   4.628889  4.071010  \n",
       "midsommar                           0.000000  1.809338  \n",
       "my friend dahmer                    0.000000  3.015563  \n",
       "a friend of the family              0.000000  1.357003  \n",
       "...                                      ...       ...  \n",
       "law & order: special victims unit   0.000000  0.000000  \n",
       "thor: love and thunder              0.000000  2.142637  \n",
       "peaky blinders                      0.000000  0.000000  \n",
       "the bear                            0.000000  0.000000  \n",
       "better call saul                    0.000000  0.000000  \n",
       "\n",
       "[227 rows x 14 columns]"
      ]
     },
     "execution_count": 529,
     "metadata": {},
     "output_type": "execute_result"
    }
   ],
   "source": [
    "movie_feature_lift = pd.DataFrame(columns = features, dtype=float)\n",
    "length=len(movies_count)\n",
    "for i in range(len(movies_list)):\n",
    "    for j in range(len(features)):\n",
    "        \n",
    "        Confidence=(movies_count[((movies_count[movies_list[i]]==1) & (movies_count[features[j]]==1 ))][movies_list[i]].count())\n",
    "        Support_i=(movies_count[((movies_count[movies_list[i]]==1))][movies_list[i]].count())\n",
    "        Support_j=(movies_count[((movies_count[features[j]]==1))][features[j]].count())\n",
    "        \n",
    "        if Support_i==0 or Support_j==0:\n",
    "            Lift=0\n",
    "        else :\n",
    "            Lift=(Confidence*length/(Support_i*Support_j))\n",
    "        movie_feature_lift.loc[movies_list[i],features[j]]=float(Lift)\n",
    "\n",
    "\n",
    "movie_feature_lift"
   ]
  },
  {
   "cell_type": "code",
   "execution_count": 514,
   "id": "eb6707d3-e2d1-434b-91cd-75242fb432f4",
   "metadata": {},
   "outputs": [
    {
     "data": {
      "text/plain": [
       "speak no evil            10.072940\n",
       "trick 'r treat            9.896222\n",
       "barbarian                 8.394116\n",
       "mr. harrigan's phone      8.226234\n",
       "the invitation            8.135836\n",
       "Name: horror, dtype: float64"
      ]
     },
     "execution_count": 514,
     "metadata": {},
     "output_type": "execute_result"
    }
   ],
   "source": [
    "movie_feature_lift['horror'].sort_values(ascending=False).head(5)"
   ]
  },
  {
   "cell_type": "code",
   "execution_count": 515,
   "id": "f9bd8005-a21a-4499-9085-25eea93b7fd4",
   "metadata": {},
   "outputs": [
    {
     "data": {
      "text/plain": [
       "significant other     19.838095\n",
       "the orville           19.406832\n",
       "vesper                17.504202\n",
       "westworld             14.586835\n",
       "the x-files           13.225397\n",
       "Name: sci-fi, dtype: float64"
      ]
     },
     "execution_count": 515,
     "metadata": {},
     "output_type": "execute_result"
    }
   ],
   "source": [
    "movie_feature_lift['sci-fi'].sort_values(ascending=False).head(5)"
   ]
  },
  {
   "cell_type": "code",
   "execution_count": 516,
   "id": "d1bb47e6-73f9-4687-b989-684130dcba25",
   "metadata": {},
   "outputs": [
    {
     "data": {
      "text/plain": [
       "ticket to paradise          30.520147\n",
       "entergalactic               21.364103\n",
       "where the crawdads sing     20.346764\n",
       "the empress                 13.933110\n",
       "sita ramam                  12.818462\n",
       "Name: romantic, dtype: float64"
      ]
     },
     "execution_count": 516,
     "metadata": {},
     "output_type": "execute_result"
    }
   ],
   "source": [
    "movie_feature_lift['romantic'].sort_values(ascending=False).head(5)"
   ]
  },
  {
   "cell_type": "code",
   "execution_count": 517,
   "id": "0463ce78-f632-442c-b7db-684204989d78",
   "metadata": {},
   "outputs": [
    {
     "data": {
      "text/plain": [
       "the gray man       7.772388\n",
       "memory             6.545169\n",
       "bullet train       5.722952\n",
       "daredevil          4.956305\n",
       "the woman king     4.749793\n",
       "Name: action, dtype: float64"
      ]
     },
     "execution_count": 517,
     "metadata": {},
     "output_type": "execute_result"
    }
   ],
   "source": [
    "movie_feature_lift['action'].sort_values(ascending=False).head(5)"
   ]
  },
  {
   "cell_type": "code",
   "execution_count": 518,
   "id": "ddc439ae-fa86-4146-b3f0-5af7eaddc36f",
   "metadata": {},
   "outputs": [
    {
     "data": {
      "text/plain": [
       "sherwood                6.881297\n",
       "peaky blinders          4.862404\n",
       "don't worry darling     3.961959\n",
       "the wire                3.961959\n",
       "9-1-1                   3.803481\n",
       "Name: drama, dtype: float64"
      ]
     },
     "execution_count": 518,
     "metadata": {},
     "output_type": "execute_result"
    }
   ],
   "source": [
    "movie_feature_lift['drama'].sort_values(ascending=False).head(5)"
   ]
  },
  {
   "cell_type": "code",
   "execution_count": 519,
   "id": "74f1a487-ecb3-4dd3-b9f5-c86ccef578c2",
   "metadata": {},
   "outputs": [
    {
     "data": {
      "text/plain": [
       "the witcher                                           18.936364\n",
       "the lord of the rings: the fellowship of the ring     17.085441\n",
       "the lord of the rings: the rings of power             12.881880\n",
       "american psycho                                       10.820779\n",
       "pinocchio                                             10.144481\n",
       "Name: fantasy, dtype: float64"
      ]
     },
     "execution_count": 519,
     "metadata": {},
     "output_type": "execute_result"
    }
   ],
   "source": [
    "movie_feature_lift['fantasy'].sort_values(ascending=False).head(5)"
   ]
  },
  {
   "cell_type": "code",
   "execution_count": 520,
   "id": "0b6c4bd3-1d3c-4871-a183-272a09073ff7",
   "metadata": {},
   "outputs": [
    {
     "data": {
      "text/plain": [
       "entergalactic               21.576892\n",
       "arcane                      16.597610\n",
       "dc league of super-pets     15.088736\n",
       "attack on titan             13.579862\n",
       "sing 2                      12.909252\n",
       "Name: animation, dtype: float64"
      ]
     },
     "execution_count": 520,
     "metadata": {},
     "output_type": "execute_result"
    }
   ],
   "source": [
    "movie_feature_lift['animation'].sort_values(ascending=False).head(5)"
   ]
  },
  {
   "cell_type": "code",
   "execution_count": 540,
   "id": "d88de235-fb6d-4e26-8c4c-145e9a8344d3",
   "metadata": {},
   "outputs": [
    {
     "data": {
      "text/plain": [
       "see how they run     12.075362\n",
       "see                   7.308772\n",
       "the invitation        7.121368\n",
       "inheritance           5.786111\n",
       "the watcher           5.786111\n",
       "Name: mystery, dtype: float64"
      ]
     },
     "execution_count": 540,
     "metadata": {},
     "output_type": "execute_result"
    }
   ],
   "source": [
    "movie_feature_lift['mystery'].sort_values(ascending=False).head(5)"
   ]
  },
  {
   "cell_type": "code",
   "execution_count": 522,
   "id": "bfd895ee-a771-49a2-bc93-0f843962c0c3",
   "metadata": {},
   "outputs": [
    {
     "data": {
      "text/plain": [
       "it's always sunny in philadelphia     7.336122\n",
       "derry girls                           5.835551\n",
       "the lost city                         5.502091\n",
       "ticket to paradise                    5.502091\n",
       "she-hulk: attorney at law             5.405563\n",
       "Name: comedy, dtype: float64"
      ]
     },
     "execution_count": 522,
     "metadata": {},
     "output_type": "execute_result"
    }
   ],
   "source": [
    "movie_feature_lift['comedy'].sort_values(ascending=False).head(5)"
   ]
  },
  {
   "cell_type": "code",
   "execution_count": 523,
   "id": "d5def2ed-1b9b-414c-b298-15defda3769c",
   "metadata": {},
   "outputs": [
    {
     "data": {
      "text/plain": [
       "don't worry darling     9.745029\n",
       "significant other       9.745029\n",
       "watcher                 8.932943\n",
       "vikram vedha            8.352882\n",
       "last seen alive         7.693444\n",
       "Name: thriller, dtype: float64"
      ]
     },
     "execution_count": 523,
     "metadata": {},
     "output_type": "execute_result"
    }
   ],
   "source": [
    "movie_feature_lift['thriller'].sort_values(ascending=False).head(5)"
   ]
  },
  {
   "cell_type": "code",
   "execution_count": 524,
   "id": "7c2820b3-a83e-44f3-8a2d-bbc1689be8d7",
   "metadata": {},
   "outputs": [
    {
     "data": {
      "text/plain": [
       "the boys                      25.238925\n",
       "dc league of super-pets       19.072596\n",
       "she-hulk: attorney at law     18.929193\n",
       "daredevil                     10.424773\n",
       "the umbrella academy           7.818580\n",
       "Name: superhero, dtype: float64"
      ]
     },
     "execution_count": 524,
     "metadata": {},
     "output_type": "execute_result"
    }
   ],
   "source": [
    "movie_feature_lift['superhero'].sort_values(ascending=False).head(5)"
   ]
  },
  {
   "cell_type": "code",
   "execution_count": 531,
   "id": "be8c3069-107f-44bd-b8fc-32c5cdc214d6",
   "metadata": {},
   "outputs": [
    {
     "data": {
      "text/plain": [
       "the greatest beer run ever     48.281457\n",
       "the woman king                 13.794702\n",
       "athena                         11.035762\n",
       "peaky blinders                 10.032511\n",
       "amsterdam                       9.196468\n",
       "Name: war, dtype: float64"
      ]
     },
     "execution_count": 531,
     "metadata": {},
     "output_type": "execute_result"
    }
   ],
   "source": [
    "movie_feature_lift['war'].sort_values(ascending=False).head(5)"
   ]
  },
  {
   "cell_type": "code",
   "execution_count": 532,
   "id": "a35a9cf2-d375-4742-8fdd-176bf0ca9be4",
   "metadata": {},
   "outputs": [
    {
     "data": {
      "text/plain": [
       "rick and morty      19.287037\n",
       "the simpsons        17.358333\n",
       "bojack horseman     16.832323\n",
       "bob's burgers       14.812444\n",
       "family guy          12.769349\n",
       "Name: cartoon, dtype: float64"
      ]
     },
     "execution_count": 532,
     "metadata": {},
     "output_type": "execute_result"
    }
   ],
   "source": [
    "movie_feature_lift['cartoon'].sort_values(ascending=False).head(5)"
   ]
  },
  {
   "cell_type": "code",
   "execution_count": 533,
   "id": "8140a29c-bf93-499b-810f-6846a44a53c1",
   "metadata": {},
   "outputs": [
    {
     "data": {
      "text/plain": [
       "minions: the rise of gru     14.160034\n",
       "lyle, lyle, crocodile        12.213029\n",
       "dc league of super-pets       9.869115\n",
       "hocus pocus                   9.046688\n",
       "pinocchio                     6.785016\n",
       "Name: kids, dtype: float64"
      ]
     },
     "execution_count": 533,
     "metadata": {},
     "output_type": "execute_result"
    }
   ],
   "source": [
    "movie_feature_lift['kids'].sort_values(ascending=False).head(5)"
   ]
  },
  {
   "cell_type": "markdown",
   "id": "bec0b6c4-9fe5-4a4a-b45d-8d5a5a2d7087",
   "metadata": {},
   "source": [
    "# Finding the LIFT Values between different Genres and Plotting MDS to see how are different genres related to each other"
   ]
  },
  {
   "cell_type": "code",
   "execution_count": 537,
   "id": "999123b0-b7fa-4e1b-949d-4735c34617a5",
   "metadata": {
    "id": "exCXvYkSpiiZ"
   },
   "outputs": [
    {
     "data": {
      "text/html": [
       "<div>\n",
       "<style scoped>\n",
       "    .dataframe tbody tr th:only-of-type {\n",
       "        vertical-align: middle;\n",
       "    }\n",
       "\n",
       "    .dataframe tbody tr th {\n",
       "        vertical-align: top;\n",
       "    }\n",
       "\n",
       "    .dataframe thead th {\n",
       "        text-align: right;\n",
       "    }\n",
       "</style>\n",
       "<table border=\"1\" class=\"dataframe\">\n",
       "  <thead>\n",
       "    <tr style=\"text-align: right;\">\n",
       "      <th></th>\n",
       "      <th>horror</th>\n",
       "      <th>sci-fi</th>\n",
       "      <th>romantic</th>\n",
       "      <th>action</th>\n",
       "      <th>drama</th>\n",
       "      <th>fantasy</th>\n",
       "      <th>animation</th>\n",
       "      <th>mystery</th>\n",
       "      <th>comedy</th>\n",
       "      <th>thriller</th>\n",
       "      <th>superhero</th>\n",
       "      <th>war</th>\n",
       "      <th>cartoon</th>\n",
       "      <th>kids</th>\n",
       "    </tr>\n",
       "  </thead>\n",
       "  <tbody>\n",
       "  </tbody>\n",
       "</table>\n",
       "</div>"
      ],
      "text/plain": [
       "Empty DataFrame\n",
       "Columns: [horror, sci-fi, romantic, action, drama, fantasy, animation, mystery, comedy, thriller, superhero, war, cartoon, kids]\n",
       "Index: []"
      ]
     },
     "execution_count": 537,
     "metadata": {},
     "output_type": "execute_result"
    }
   ],
   "source": [
    "movies_feature = pd.DataFrame(columns =features)\n",
    "movies_feature"
   ]
  },
  {
   "cell_type": "code",
   "execution_count": 538,
   "id": "910d9d80-2de3-4a96-91a7-619c39a01b45",
   "metadata": {
    "id": "60F605gpITCm",
    "tags": []
   },
   "outputs": [],
   "source": [
    "def feature_counter(item):\n",
    "    if feature in item:\n",
    "        return 1\n",
    "    else:\n",
    "        return 0\n",
    "\n",
    "for  feature in features:\n",
    "    movies_feature[feature] = Movie_Reviews_df['Review_tokenized'].apply(feature_counter)"
   ]
  },
  {
   "cell_type": "code",
   "execution_count": 608,
   "id": "eb0369bf-6842-4864-8b0b-7aa50fa4d306",
   "metadata": {
    "id": "WzWCWN07ITCn"
   },
   "outputs": [],
   "source": [
    "feature_lift = pd.DataFrame(columns = features, dtype=float)\n",
    "length=len(features)\n",
    "for i in range(len(features)):\n",
    "    for j in range(len(features)):\n",
    "        if j==i :\n",
    "            feature_lift.loc[features[i],features[j]]=np.NaN\n",
    "        else:\n",
    "        \n",
    "            Confidence=(movies_count[((movies_count[features[i]]==1) & (movies_count[features[j]]==1 ))][features[i]].count())\n",
    "            Support_i=(movies_count[((movies_count[features[i]]==1))][features[i]].count())\n",
    "            Support_j=(movies_count[((movies_count[features[j]]==1))][features[j]].count())\n",
    "        \n",
    "            if Support_i==0 or Support_j==0:\n",
    "                Lift=0\n",
    "            else :\n",
    "                Lift=(Confidence*length/(Support_i*Support_j))\n",
    "\n",
    "                feature_lift.loc[features[i],features[j]]=float(Lift)\n"
   ]
  },
  {
   "cell_type": "code",
   "execution_count": 609,
   "id": "3122ae9c-ade3-4221-94c5-c44907a78ee7",
   "metadata": {},
   "outputs": [
    {
     "data": {
      "text/plain": [
       "<AxesSubplot:>"
      ]
     },
     "execution_count": 609,
     "metadata": {},
     "output_type": "execute_result"
    },
    {
     "data": {
      "image/png": "[encoded data removed]",
      "text/plain": [
       "<Figure size 1440x576 with 2 Axes>"
      ]
     },
     "metadata": {
      "needs_background": "light"
     },
     "output_type": "display_data"
    }
   ],
   "source": [
    "feature_lift_mds=feature_lift.copy(deep=True)\n",
    "\n",
    "for i in range(len(features)):\n",
    "    for j in range(len(features)):\n",
    "        if j>=i :\n",
    "            feature_lift.loc[features[i],features[j]]=np.NaN\n",
    "plt.figure(figsize=(20,8))\n",
    "sns.heatmap(feature_lift.fillna(0),annot=True,mask=np.triu(feature_lift))"
   ]
  },
  {
   "cell_type": "code",
   "execution_count": 610,
   "id": "d0824b8a-1214-4a41-b4f3-f1f5d122aa57",
   "metadata": {},
   "outputs": [
    {
     "name": "stderr",
     "output_type": "stream",
     "text": [
      "/Users/aashi/opt/anaconda3/lib/python3.9/site-packages/sklearn/manifold/_mds.py:517: UserWarning: The MDS API has changed. ``fit`` now constructs an dissimilarity matrix from data. To use a custom dissimilarity matrix, set ``dissimilarity='precomputed'``.\n",
      "  warnings.warn(\n"
     ]
    },
    {
     "data": {
      "image/png": "[encoded data removed]",
      "text/plain": [
       "<Figure size 1400x600 with 1 Axes>"
      ]
     },
     "metadata": {
      "needs_background": "light"
     },
     "output_type": "display_data"
    }
   ],
   "source": [
    "from sklearn.manifold import MDS\n",
    "scale = StandardScaler()\n",
    "scale = sklearn.preprocessing.scale\n",
    "feature_lift_mds = pd.DataFrame(feature_lift_mds)\n",
    "df_disimilarity=1/feature_lift_mds\n",
    "df_disimilarity.fillna(0,inplace=True)\n",
    "df_disimilarity.replace([np.inf, -np.inf], 5000, inplace=True)\n",
    "df_disimilarity\n",
    "\n",
    "\n",
    "mds=MDS(n_components=2)\n",
    "\n",
    "npos=mds.fit_transform((df_disimilarity))\n",
    "\n",
    "# df_disimilarity.index\n",
    "fig = plt.figure(1, figsize=(14, 6), frameon=False, dpi=100)\n",
    "fig.add_axes([0, 0, 1, 1])\n",
    "ax = plt.plot(npos[:,0],npos[:,1],'*')\n",
    "\n",
    "#corners = ((0, 0), (10000, 10000))\n",
    "#ax.update_datalim(corners)\n",
    "\n",
    "for i in range(len(npos)):\n",
    "    plt.text(npos[i,0],npos[i,1],df_disimilarity.index[i])"
   ]
  }
 ],
 "metadata": {
  "kernelspec": {
   "display_name": "Python 3 (ipykernel)",
   "language": "python",
   "name": "python3"
  },
  "language_info": {
   "codemirror_mode": {
    "name": "ipython",
    "version": 3
   },
   "file_extension": ".py",
   "mimetype": "text/x-python",
   "name": "python",
   "nbconvert_exporter": "python",
   "pygments_lexer": "ipython3",
   "version": "3.9.12"
  }
 },
 "nbformat": 4,
 "nbformat_minor": 5
}
